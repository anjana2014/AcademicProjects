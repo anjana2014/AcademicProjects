{
  "cells": [
    {
      "cell_type": "code",
      "execution_count": 1,
      "metadata": {
        "id": "TCvLSvYcOMEr"
      },
      "outputs": [
        {
          "name": "stderr",
          "output_type": "stream",
          "text": [
            "\n",
            "KeyboardInterrupt\n",
            "\n"
          ]
        }
      ],
      "source": [
        "import numpy as np\n",
        "from scipy import stats"
      ]
    },
    {
      "cell_type": "code",
      "execution_count": null,
      "metadata": {
        "id": "JZfTYEPDahyA"
      },
      "outputs": [],
      "source": [
        "def clean_data(line):\n",
        "    return line.replace('(', '').replace(')', '').replace(' ', '').strip().split(',')"
      ]
    },
    {
      "cell_type": "code",
      "execution_count": null,
      "metadata": {
        "id": "pgJalbTvakW-"
      },
      "outputs": [],
      "source": [
        "def fetch_data(filename):\n",
        "    with open(filename, 'r') as f:\n",
        "        input_data = f.readlines()\n",
        "        clean_input = list(map(clean_data, input_data))\n",
        "        f.close()\n",
        "    return clean_input"
      ]
    },
    {
      "cell_type": "code",
      "execution_count": null,
      "metadata": {
        "id": "0Bff3sV0amin"
      },
      "outputs": [],
      "source": [
        "def readFile(dataset_path):\n",
        "    input_data = fetch_data(dataset_path)\n",
        "    input_np = np.array(input_data)\n",
        "    return input_np"
      ]
    },
    {
      "cell_type": "code",
      "execution_count": null,
      "metadata": {
        "id": "xEfC9prpQXYw"
      },
      "outputs": [],
      "source": [
        "def load_data(file_path):\n",
        "    with open(file_path, 'r') as input_file:\n",
        "        df = pd.read_csv(input_file, sep=',', header=None)\n",
        "    input_data = np.array(df[df.columns[0:-1]])\n",
        "    output_data = df[df.columns[-1]]\n",
        "    return input_data, output_data"
      ]
    },
    {
      "cell_type": "code",
      "execution_count": null,
      "metadata": {
        "id": "KG1tHPTuTzdj"
      },
      "outputs": [],
      "source": [
        "class StandardScaling:\n",
        "    def __init__(self):\n",
        "        self.std = None\n",
        "        self.mean = None\n",
        "\n",
        "    def fit_transform(self, data):\n",
        "        self.std = np.std(data, axis=0)\n",
        "        self.mean = np.mean(data, axis=0)\n",
        "        transformed_data = np.subtract(data, self.mean)\n",
        "        transformed_data = np.divide(transformed_data, self.std)\n",
        "        return transformed_data\n",
        "\n",
        "    def transform(self, data):\n",
        "        transformed_data = np.subtract(data, self.mean)\n",
        "        transformed_data = np.divide(transformed_data, self.std)\n",
        "        return transformed_data"
      ]
    },
    {
      "cell_type": "markdown",
      "metadata": {
        "id": "quxHmk0PoNXc"
      },
      "source": [
        "# Question 1-b\n",
        "## KNN Classifier Code"
      ]
    },
    {
      "cell_type": "code",
      "execution_count": null,
      "metadata": {
        "id": "iBsI5Vd8RJP4"
      },
      "outputs": [],
      "source": [
        "class KNearestNeighborClassifier:\n",
        "    def __init__(self, logging = False):\n",
        "        self.classes = None\n",
        "        self.num_points = None\n",
        "        self.num_features = None\n",
        "        self.num_classes = None\n",
        "        self.X_train = None\n",
        "        self.y_train = None\n",
        "        self.logging = logging\n",
        "\n",
        "    def fit(self, X, y):\n",
        "        self.classes = np.array(list(set(y)))\n",
        "        self.num_classes = len(self.classes)\n",
        "        self.num_points, self.num_features = X.shape\n",
        "        self.X_train = X\n",
        "        self.y_train = y\n",
        "\n",
        "    def compute_distance(self, X, distance_metric):\n",
        "        if distance_metric == 'manhattan':\n",
        "            dist_mat = np.linalg.norm(X[:, None, :] - self.X_train[None, :, :], ord=1, axis=-1)\n",
        "        elif distance_metric == 'cartesian':\n",
        "            dist_mat = np.linalg.norm(X[:, None, :] - self.X_train[None, :, :], ord=2, axis=-1)\n",
        "        elif distance_metric == 'minkowski':\n",
        "            dist_mat = np.linalg.norm(X[:, None, :] - self.X_train[None, :, :], ord=3, axis=-1)\n",
        "        else:\n",
        "            raise Exception(\"Please enter valid distance metric\")\n",
        "        return dist_mat\n",
        "\n",
        "    def predict(self, X, k, distance_metric='cartesian'):\n",
        "        [m, n] = X.shape\n",
        "        preds = np.zeros((m, 1))\n",
        "        dist_matrix = self.compute_distance(X, distance_metric)\n",
        "        if self.logging:\n",
        "            print(\"\\tDistance Matrix is: \", dist_matrix)\n",
        "        sorted_dist_indices = np.argsort(dist_matrix, axis = 1)[:, :k]\n",
        "        if self.logging:\n",
        "            print(\"\\tNeighbor Indices is: \", sorted_dist_indices)\n",
        "        preds = self.y_train[sorted_dist_indices]\n",
        "        preds = stats.mode(preds, axis=1).mode.reshape(-1)\n",
        "        if self.logging:\n",
        "            print(\"\\tPredictions are: \", preds)\n",
        "        return preds"
      ]
    },
    {
      "cell_type": "code",
      "execution_count": null,
      "metadata": {
        "id": "687ghf8caYwT"
      },
      "outputs": [],
      "source": [
        "def compute_accuracy(targets, pred):\n",
        "    acc = (len(np.where(targets == pred)[0]) / len(pred)) * 100\n",
        "    return acc"
      ]
    },
    {
      "cell_type": "markdown",
      "metadata": {
        "id": "NxMJdVXya9qm"
      },
      "source": [
        "## Loading Datasets"
      ]
    },
    {
      "cell_type": "code",
      "execution_count": null,
      "metadata": {
        "colab": {
          "base_uri": "https://localhost:8080/",
          "height": 380
        },
        "id": "tT6PMfBpa5g6",
        "outputId": "b83f9dcf-1d2e-4580-a580-584fdbdaab7f"
      },
      "outputs": [
        {
          "ename": "FileNotFoundError",
          "evalue": "ignored",
          "output_type": "error",
          "traceback": [
            "\u001b[0;31m---------------------------------------------------------------------------\u001b[0m",
            "\u001b[0;31mFileNotFoundError\u001b[0m                         Traceback (most recent call last)",
            "\u001b[0;32m<ipython-input-9-4b4450e9f40c>\u001b[0m in \u001b[0;36m<module>\u001b[0;34m\u001b[0m\n\u001b[1;32m      3\u001b[0m \u001b[0mlarge_120_data\u001b[0m \u001b[0;34m=\u001b[0m \u001b[0;34m'1c-data.txt'\u001b[0m\u001b[0;34m\u001b[0m\u001b[0;34m\u001b[0m\u001b[0m\n\u001b[1;32m      4\u001b[0m \u001b[0;34m\u001b[0m\u001b[0m\n\u001b[0;32m----> 5\u001b[0;31m \u001b[0mtrain_np\u001b[0m \u001b[0;34m=\u001b[0m \u001b[0mreadFile\u001b[0m\u001b[0;34m(\u001b[0m\u001b[0mtraining_data\u001b[0m\u001b[0;34m)\u001b[0m\u001b[0;34m\u001b[0m\u001b[0;34m\u001b[0m\u001b[0m\n\u001b[0m\u001b[1;32m      6\u001b[0m \u001b[0mX_train_np\u001b[0m \u001b[0;34m=\u001b[0m \u001b[0mtrain_np\u001b[0m\u001b[0;34m[\u001b[0m\u001b[0;34m:\u001b[0m\u001b[0;34m,\u001b[0m \u001b[0;34m:\u001b[0m\u001b[0;34m-\u001b[0m\u001b[0;36m1\u001b[0m\u001b[0;34m]\u001b[0m\u001b[0;34m.\u001b[0m\u001b[0mastype\u001b[0m\u001b[0;34m(\u001b[0m\u001b[0;34m'float'\u001b[0m\u001b[0;34m)\u001b[0m\u001b[0;34m\u001b[0m\u001b[0;34m\u001b[0m\u001b[0m\n\u001b[1;32m      7\u001b[0m \u001b[0mY_train_np\u001b[0m \u001b[0;34m=\u001b[0m \u001b[0mtrain_np\u001b[0m\u001b[0;34m[\u001b[0m\u001b[0;34m:\u001b[0m\u001b[0;34m,\u001b[0m \u001b[0;34m-\u001b[0m\u001b[0;36m1\u001b[0m\u001b[0;34m]\u001b[0m\u001b[0;34m.\u001b[0m\u001b[0mastype\u001b[0m\u001b[0;34m(\u001b[0m\u001b[0;34m'str'\u001b[0m\u001b[0;34m)\u001b[0m\u001b[0;34m\u001b[0m\u001b[0;34m\u001b[0m\u001b[0m\n",
            "\u001b[0;32m<ipython-input-4-be0856ee2ef5>\u001b[0m in \u001b[0;36mreadFile\u001b[0;34m(dataset_path)\u001b[0m\n\u001b[1;32m      1\u001b[0m \u001b[0;32mdef\u001b[0m \u001b[0mreadFile\u001b[0m\u001b[0;34m(\u001b[0m\u001b[0mdataset_path\u001b[0m\u001b[0;34m)\u001b[0m\u001b[0;34m:\u001b[0m\u001b[0;34m\u001b[0m\u001b[0;34m\u001b[0m\u001b[0m\n\u001b[0;32m----> 2\u001b[0;31m     \u001b[0minput_data\u001b[0m \u001b[0;34m=\u001b[0m \u001b[0mfetch_data\u001b[0m\u001b[0;34m(\u001b[0m\u001b[0mdataset_path\u001b[0m\u001b[0;34m)\u001b[0m\u001b[0;34m\u001b[0m\u001b[0;34m\u001b[0m\u001b[0m\n\u001b[0m\u001b[1;32m      3\u001b[0m     \u001b[0minput_np\u001b[0m \u001b[0;34m=\u001b[0m \u001b[0mnp\u001b[0m\u001b[0;34m.\u001b[0m\u001b[0marray\u001b[0m\u001b[0;34m(\u001b[0m\u001b[0minput_data\u001b[0m\u001b[0;34m)\u001b[0m\u001b[0;34m\u001b[0m\u001b[0;34m\u001b[0m\u001b[0m\n\u001b[1;32m      4\u001b[0m     \u001b[0;32mreturn\u001b[0m \u001b[0minput_np\u001b[0m\u001b[0;34m\u001b[0m\u001b[0;34m\u001b[0m\u001b[0m\n",
            "\u001b[0;32m<ipython-input-3-faa68007751b>\u001b[0m in \u001b[0;36mfetch_data\u001b[0;34m(filename)\u001b[0m\n\u001b[1;32m      1\u001b[0m \u001b[0;32mdef\u001b[0m \u001b[0mfetch_data\u001b[0m\u001b[0;34m(\u001b[0m\u001b[0mfilename\u001b[0m\u001b[0;34m)\u001b[0m\u001b[0;34m:\u001b[0m\u001b[0;34m\u001b[0m\u001b[0;34m\u001b[0m\u001b[0m\n\u001b[0;32m----> 2\u001b[0;31m     \u001b[0;32mwith\u001b[0m \u001b[0mopen\u001b[0m\u001b[0;34m(\u001b[0m\u001b[0mfilename\u001b[0m\u001b[0;34m,\u001b[0m \u001b[0;34m'r'\u001b[0m\u001b[0;34m)\u001b[0m \u001b[0;32mas\u001b[0m \u001b[0mf\u001b[0m\u001b[0;34m:\u001b[0m\u001b[0;34m\u001b[0m\u001b[0;34m\u001b[0m\u001b[0m\n\u001b[0m\u001b[1;32m      3\u001b[0m         \u001b[0minput_data\u001b[0m \u001b[0;34m=\u001b[0m \u001b[0mf\u001b[0m\u001b[0;34m.\u001b[0m\u001b[0mreadlines\u001b[0m\u001b[0;34m(\u001b[0m\u001b[0;34m)\u001b[0m\u001b[0;34m\u001b[0m\u001b[0;34m\u001b[0m\u001b[0m\n\u001b[1;32m      4\u001b[0m         \u001b[0mclean_input\u001b[0m \u001b[0;34m=\u001b[0m \u001b[0mlist\u001b[0m\u001b[0;34m(\u001b[0m\u001b[0mmap\u001b[0m\u001b[0;34m(\u001b[0m\u001b[0mclean_data\u001b[0m\u001b[0;34m,\u001b[0m \u001b[0minput_data\u001b[0m\u001b[0;34m)\u001b[0m\u001b[0;34m)\u001b[0m\u001b[0;34m\u001b[0m\u001b[0;34m\u001b[0m\u001b[0m\n\u001b[1;32m      5\u001b[0m         \u001b[0mf\u001b[0m\u001b[0;34m.\u001b[0m\u001b[0mclose\u001b[0m\u001b[0;34m(\u001b[0m\u001b[0;34m)\u001b[0m\u001b[0;34m\u001b[0m\u001b[0;34m\u001b[0m\u001b[0m\n",
            "\u001b[0;31mFileNotFoundError\u001b[0m: [Errno 2] No such file or directory: '1a-training.txt'"
          ]
        }
      ],
      "source": [
        "training_data = '1a-training.txt'\n",
        "test_data = '1a-test.txt'\n",
        "large_120_data = '1c-data.txt'\n",
        "\n",
        "train_np = readFile(training_data)\n",
        "X_train_np = train_np[:, :-1].astype('float')\n",
        "Y_train_np = train_np[:, -1].astype('str')\n",
        "#print(X_train_np, Y_train_np)\n",
        "\n",
        "test_np = readFile(test_data)\n",
        "X_test_np = test_np.astype('float')\n",
        "#print(X_test_np, Y_test_np)\n",
        "\n",
        "large_np = readFile(large_120_data)\n",
        "X_large_np = large_np[:, :-1].astype('float')\n",
        "Y_large_np = large_np[:, -1].astype('str')\n",
        "#print(X_large_np, Y_large_np)"
      ]
    },
    {
      "cell_type": "markdown",
      "metadata": {
        "id": "DUXH_e99dGIL"
      },
      "source": [
        "#Question 1-a\n",
        "\n",
        "##Show the results of the gender prediction for the Evaluation data that is listed below generated training data for values of K of 1, 3, and 7. Include the intermediate steps (i.e., distance calculation, neighbor selection, and prediction).   "
      ]
    },
    {
      "cell_type": "code",
      "execution_count": null,
      "metadata": {
        "id": "WOmv1NMEdf9V"
      },
      "outputs": [],
      "source": [
        "#Pre-Processing the Data\n",
        "\n",
        "scaler = StandardScaling()\n",
        "X_train = scaler.fit_transform(X_train_np)\n",
        "X_test = scaler.transform(X_test_np)"
      ]
    },
    {
      "cell_type": "markdown",
      "metadata": {
        "id": "_j2-b2C9dcWp"
      },
      "source": [
        "### Using Cartesian Distance"
      ]
    },
    {
      "cell_type": "code",
      "execution_count": null,
      "metadata": {
        "id": "OS0iqs-Ydb6J"
      },
      "outputs": [],
      "source": [
        "knn_classifier = KNearestNeighborClassifier(logging=True)\n",
        "\n",
        "#Fit training data to KNN classifier\n",
        "knn_classifier.fit(X_train, Y_train_np)"
      ]
    },
    {
      "cell_type": "markdown",
      "metadata": {
        "id": "ZCc3Gtste04w"
      },
      "source": [
        "## k = 1, 3, 7"
      ]
    },
    {
      "cell_type": "code",
      "execution_count": null,
      "metadata": {
        "id": "4SVXg9HZQm_D"
      },
      "outputs": [],
      "source": [
        "for d_metric in [\"cartesian\", \"manhattan\", \"minkowski\"]:\n",
        "  print(\"Distance metric used is: \", d_metric)\n",
        "  for k in [1, 3, 7]:\n",
        "      print(\"\\t Number of Neighbors (k) is: \", k)\n",
        "      knn_classifier.predict(X_test, k, distance_metric=d_metric) \n",
        "      print(\"\\n\")\n"
      ]
    },
    {
      "cell_type": "markdown",
      "metadata": {
        "id": "ysAqf5ayghUi"
      },
      "source": [
        "# Question 1-c\n",
        "## Leave One-Out Evaluation"
      ]
    },
    {
      "cell_type": "code",
      "execution_count": null,
      "metadata": {
        "id": "sZhuYWdofmZc"
      },
      "outputs": [],
      "source": [
        "err_dict = {}\n",
        "\n",
        "for k in [1, 3, 5, 7, 9, 11]:\n",
        "    crct = 0\n",
        "    total = 0\n",
        "    for i in range(X_large_np.shape[0]):\n",
        "        tst_list = [i]\n",
        "        trn_list = list(range(X_large_np.shape[0]))\n",
        "        trn_list.remove(i)\n",
        "        \n",
        "        loo_X_train = np.take(X_large_np, trn_list, axis=0)\n",
        "        loo_Y_train = np.take(Y_large_np, trn_list, axis=0)\n",
        "\n",
        "        loo_X_test = X_large_np[tst_list]\n",
        "        loo_Y_test = Y_large_np[tst_list]\n",
        "        #print(loo_Y_test)\n",
        "\n",
        "        scaler = StandardScaling()\n",
        "        X_train = scaler.fit_transform(loo_X_train)\n",
        "        X_test = scaler.transform(loo_X_test)\n",
        "\n",
        "        knn_classifier = KNearestNeighborClassifier()\n",
        "\n",
        "        #Fit training data to KNN classifier\n",
        "        knn_classifier.fit(X_train, loo_Y_train)\n",
        "        preds = knn_classifier.predict(X_test, k, distance_metric='cartesian') \n",
        "        if preds[0][0] == loo_Y_test[0]:\n",
        "            crct += 1\n",
        "        total += 1\n",
        "    err_dict[k] = 100 - (100 * crct/total)"
      ]
    },
    {
      "cell_type": "code",
      "execution_count": null,
      "metadata": {
        "id": "GvW0h97EjPbk"
      },
      "outputs": [],
      "source": [
        "print(\"Error perctange for different k values are: \", err_dict)"
      ]
    },
    {
      "cell_type": "markdown",
      "metadata": {
        "id": "3FL3J3bNm3Xd"
      },
      "source": [
        "## k = 7 gave lowest leave one out error value."
      ]
    },
    {
      "cell_type": "markdown",
      "metadata": {
        "id": "MGQ4RtMSm-si"
      },
      "source": [
        "# Question 1-d\n",
        "## Leave One-Out Evaluation removing age variable"
      ]
    },
    {
      "cell_type": "code",
      "execution_count": null,
      "metadata": {
        "id": "jaJ1NTkLnYLm"
      },
      "outputs": [],
      "source": [
        "X_woage = X_large_np[:, :-1]"
      ]
    },
    {
      "cell_type": "code",
      "execution_count": null,
      "metadata": {
        "id": "VS3JCTd_mybg"
      },
      "outputs": [],
      "source": [
        "err_dict = {}\n",
        "\n",
        "for k in [1, 3, 5, 7, 9, 11]:\n",
        "    crct = 0\n",
        "    total = 0\n",
        "    for i in range(X_woage.shape[0]):\n",
        "        tst_list = [i]\n",
        "        trn_list = list(range(X_woage.shape[0]))\n",
        "        trn_list.remove(i)\n",
        "        \n",
        "        loo_X_train = np.take(X_woage, trn_list, axis=0)\n",
        "        loo_Y_train = np.take(Y_large_np, trn_list, axis=0)\n",
        "\n",
        "        loo_X_test = X_woage[tst_list]\n",
        "        loo_Y_test = Y_large_np[tst_list]\n",
        "        #print(loo_X_test.shape)\n",
        "\n",
        "        scaler = StandardScaling()\n",
        "        X_train = scaler.fit_transform(loo_X_train)\n",
        "        X_test = scaler.transform(loo_X_test)\n",
        "\n",
        "        knn_classifier = KNearestNeighborClassifier()\n",
        "\n",
        "        #Fit training data to KNN classifier\n",
        "        knn_classifier.fit(X_train, loo_Y_train)\n",
        "        preds = knn_classifier.predict(X_test, k, distance_metric='cartesian') \n",
        "        if preds[0] == loo_Y_test[0]:\n",
        "            crct += 1\n",
        "        total += 1\n",
        "    err_dict[k] = 100 - (100 * crct/total)"
      ]
    },
    {
      "cell_type": "code",
      "execution_count": null,
      "metadata": {
        "id": "9PqfVUa1niOT"
      },
      "outputs": [],
      "source": [
        "print(\"Error percentages for different k values without age variable are: \", err_dict)"
      ]
    },
    {
      "cell_type": "markdown",
      "metadata": {
        "id": "ptHAO2i1nteQ"
      },
      "source": [
        "## k = 9 gave lowest leave one out error value without age variable. Error percentages increased when the age variable is left out. This implies that age is a necessary variable that helps in predicting the gender accurately."
      ]
    },
    {
      "cell_type": "markdown",
      "metadata": {
        "id": "Dnly_NOnoTTi"
      },
      "source": [
        "# Question 2-b\n",
        "## Gaussian Naive Bayes Code"
      ]
    },
    {
      "cell_type": "code",
      "execution_count": null,
      "metadata": {
        "id": "4mr7XONsoiRf"
      },
      "outputs": [],
      "source": [
        "class GaussianNBClassifier:\n",
        "    def __init__(self):\n",
        "        self.prob_y = None\n",
        "        self.unique_classes = None\n",
        "        self.num_points = None\n",
        "        self.num_features = None\n",
        "        self.num_classes = None\n",
        "        self.mean_param = None\n",
        "        self.var_param = None\n",
        "\n",
        "    def fit(self, X, y):\n",
        "        self.classes = np.array(list(set(y)))\n",
        "        self.num_classes = len(self.classes)\n",
        "        self.num_points, self.num_features = X.shape\n",
        "        self.prob_y = np.zeros(self.num_classes)\n",
        "        self.mean_param = np.zeros((self.num_classes, self.num_features))\n",
        "        self.var_param = np.zeros((self.num_classes, self.num_features))\n",
        "        self.mle(X, y)\n",
        "\n",
        "    def mle(self, X, y):\n",
        "        for idx in range(0, self.num_classes):\n",
        "            cls_count = len(np.where(y == self.classes[idx])[0])\n",
        "            cls_idx = np.where(y == self.classes[idx])\n",
        "            self.prob_y[idx] = cls_count/self.num_points\n",
        "            self.mean_param[idx, :] = np.sum(X[cls_idx], axis=0)/cls_count\n",
        "            self.var_param[idx, :] = np.sum(np.power(np.subtract(X[cls_idx], self.mean_param[idx]), 2), axis=0)/cls_count\n",
        "\n",
        "    def gaussian_dist(self, X, mean, var):\n",
        "        diff_vec = X - mean\n",
        "        z_values = np.divide(X - mean, np.sqrt(var))\n",
        "        dist = (1/np.sqrt(2*np.pi*var)) * np.exp(-0.5 * (z_values**2))\n",
        "        return dist\n",
        "\n",
        "    def get_log_bayes_prob(self, X):\n",
        "        cond_prob = np.zeros((X.shape[0], self.num_classes))\n",
        "        for i in range(X.shape[0]):\n",
        "            for j in range(self.num_classes):\n",
        "                cond_prob[i][j] = np.log(self.prob_y[j]) + np.sum(np.log(self.gaussian_dist(X[i], self.mean_param[j], self.var_param[j])))\n",
        "        return cond_prob\n",
        "\n",
        "    def predict(self, X):\n",
        "        cond_prob = self.get_log_bayes_prob(X)\n",
        "        max_index = np.argmax(cond_prob, axis=1)\n",
        "        pred = self.classes[max_index]\n",
        "        return pred"
      ]
    },
    {
      "cell_type": "markdown",
      "metadata": {
        "id": "hxFlkja6rFPL"
      },
      "source": [
        "## Loading Datasets"
      ]
    },
    {
      "cell_type": "code",
      "execution_count": null,
      "metadata": {
        "id": "CyMbhpwjrFPM"
      },
      "outputs": [],
      "source": [
        "training_data = '1a-training.txt'\n",
        "test_data = '1a-test.txt'\n",
        "large_120_data = '1c-data.txt'\n",
        "\n",
        "train_np = readFile(training_data)\n",
        "X_train_np = train_np[:, :-1].astype('float')\n",
        "Y_train_np = train_np[:, -1].astype('str')\n",
        "#print(X_train_np, Y_train_np)\n",
        "\n",
        "test_np = readFile(test_data)\n",
        "X_test_np = test_np.astype('float')\n",
        "#print(X_test_np, Y_test_np)\n",
        "\n",
        "large_np = readFile(large_120_data)\n",
        "X_large_np = large_np[:, :-1].astype('float')\n",
        "Y_large_np = large_np[:, -1].astype('str')\n",
        "#print(X_large_np, Y_large_np)"
      ]
    },
    {
      "cell_type": "markdown",
      "metadata": {
        "id": "LLB9HPevp4Ni"
      },
      "source": [
        "#Question 2-a\n",
        "\n",
        "##Learn/derive the parameters for the Gaussian Naive Bayes Classifier for the data from Question 2 a) and apply them to the same target as in problem 1a).   "
      ]
    },
    {
      "cell_type": "code",
      "execution_count": null,
      "metadata": {
        "id": "-z2FtDGEp4Nj"
      },
      "outputs": [],
      "source": [
        "gnb_classifier = GaussianNBClassifier()\n",
        "\n",
        "#Fit training data to KNN classifier\n",
        "gnb_classifier.fit(X_train_np, Y_train_np)"
      ]
    },
    {
      "cell_type": "markdown",
      "metadata": {
        "id": "74GYQakRqOpN"
      },
      "source": [
        "### Learned Paramaters"
      ]
    },
    {
      "cell_type": "code",
      "execution_count": null,
      "metadata": {
        "colab": {
          "base_uri": "https://localhost:8080/"
        },
        "id": "kL7gLTPiqSNW",
        "outputId": "991f4ca0-8086-476b-9ee0-637e403ff57b"
      },
      "outputs": [
        {
          "name": "stdout",
          "output_type": "stream",
          "text": [
            "Learned Mean Parameters are:  [[ 1.59911758 66.95767358 31.14285714]\n",
            " [ 1.6822001  75.8642998  32.14285714]]\n",
            "Learned Variance Parameters are:  [[4.87896731e-03 1.50004970e+01 1.81224490e+01]\n",
            " [6.61414988e-04 1.12548981e+01 6.12244898e+00]]\n"
          ]
        }
      ],
      "source": [
        "print(\"Learned Mean Parameters are: \", gnb_classifier.mean_param)\n",
        "print(\"Learned Variance Parameters are: \", gnb_classifier.var_param)"
      ]
    },
    {
      "cell_type": "markdown",
      "metadata": {
        "id": "ToK_UsWrp4Nk"
      },
      "source": [
        "### Test data predictions"
      ]
    },
    {
      "cell_type": "code",
      "execution_count": null,
      "metadata": {
        "colab": {
          "base_uri": "https://localhost:8080/"
        },
        "id": "LFR5HF4lp4Nk",
        "outputId": "ae8c251b-364a-4ff4-e345-876bf48f0fbd"
      },
      "outputs": [
        {
          "name": "stdout",
          "output_type": "stream",
          "text": [
            "Test data predictions are:  ['W' 'W' 'W' 'W']\n"
          ]
        }
      ],
      "source": [
        "preds = gnb_classifier.predict(X_test_np) \n",
        "print(\"Test data predictions are: \", preds)"
      ]
    },
    {
      "cell_type": "markdown",
      "metadata": {
        "id": "JdlJGT0PsNLg"
      },
      "source": [
        "# Question 2-c"
      ]
    },
    {
      "cell_type": "code",
      "execution_count": null,
      "metadata": {
        "id": "0nQw4LvksiTS"
      },
      "outputs": [],
      "source": [
        "crct = 0\n",
        "total = 0\n",
        "for i in range(X_large_np.shape[0]):\n",
        "    tst_list = [i]\n",
        "    trn_list = list(range(X_large_np.shape[0]))\n",
        "    trn_list.remove(i)\n",
        "    \n",
        "    loo_X_train = np.take(X_large_np, trn_list, axis=0)\n",
        "    loo_Y_train = np.take(Y_large_np, trn_list, axis=0)\n",
        "\n",
        "    loo_X_test = X_large_np[tst_list]\n",
        "    loo_Y_test = Y_large_np[tst_list]\n",
        "    \n",
        "    gnb_classifier = GaussianNBClassifier()\n",
        "\n",
        "    #Fit training data to KNN classifier\n",
        "    gnb_classifier.fit(loo_X_train, loo_Y_train)\n",
        "    preds = gnb_classifier.predict(loo_X_test) \n",
        "    #print(preds)\n",
        "    if preds[0] == loo_Y_test[0]:\n",
        "        crct += 1\n",
        "    total += 1\n",
        "err_percentage = 100 - (100 * crct/total)"
      ]
    },
    {
      "cell_type": "code",
      "execution_count": null,
      "metadata": {
        "colab": {
          "base_uri": "https://localhost:8080/"
        },
        "id": "4bayiT5LsiTU",
        "outputId": "1811ea00-f341-44ec-dfce-764bf7c28e72"
      },
      "outputs": [
        {
          "name": "stdout",
          "output_type": "stream",
          "text": [
            "Error perctange for Gaussian Naive Bayes is:  30.0\n"
          ]
        }
      ],
      "source": [
        "print(\"Error perctange for Gaussian Naive Bayes is: \", err_percentage)"
      ]
    },
    {
      "cell_type": "markdown",
      "metadata": {
        "id": "X8sPGES4tjNE"
      },
      "source": [
        "# Question 2-d\n",
        "## Leave One-Out Evaluation removing age variable"
      ]
    },
    {
      "cell_type": "code",
      "execution_count": null,
      "metadata": {
        "id": "p2mTRpa1tjNF"
      },
      "outputs": [],
      "source": [
        "X_woage = X_large_np[:, :-1]"
      ]
    },
    {
      "cell_type": "code",
      "execution_count": null,
      "metadata": {
        "id": "37k8XNqKtjNF"
      },
      "outputs": [],
      "source": [
        "crct = 0 \n",
        "total = 0\n",
        "for i in range(X_woage.shape[0]):\n",
        "    tst_list = [i]\n",
        "    trn_list = list(range(X_woage.shape[0]))\n",
        "    trn_list.remove(i)\n",
        "    \n",
        "    loo_X_train = np.take(X_woage, trn_list, axis=0)\n",
        "    loo_Y_train = np.take(Y_large_np, trn_list, axis=0)\n",
        "\n",
        "    loo_X_test = X_woage[tst_list]\n",
        "    loo_Y_test = Y_large_np[tst_list]\n",
        "\n",
        "    gnb_classifier = GaussianNBClassifier()\n",
        "\n",
        "    #Fit training data to KNN classifier\n",
        "    gnb_classifier.fit(loo_X_train, loo_Y_train)\n",
        "    preds = gnb_classifier.predict(loo_X_test) \n",
        "    if preds[0] == loo_Y_test[0]:\n",
        "        crct += 1\n",
        "    total += 1\n",
        "\n",
        "err_percentage = 100 - (100 * crct/total)"
      ]
    },
    {
      "cell_type": "code",
      "execution_count": null,
      "metadata": {
        "colab": {
          "base_uri": "https://localhost:8080/"
        },
        "id": "I2sjU3VitjNG",
        "outputId": "71cb423d-3c95-4623-8643-fd100512593b"
      },
      "outputs": [
        {
          "name": "stdout",
          "output_type": "stream",
          "text": [
            "Error percentage for gaussian naive bayes without age variable is:  29.16666666666667\n"
          ]
        }
      ],
      "source": [
        "print(\"Error percentage for gaussian naive bayes without age variable is: \", err_percentage)"
      ]
    },
    {
      "cell_type": "markdown",
      "metadata": {
        "id": "pJyNJlGktjNG"
      },
      "source": [
        "## Error percentage remained similar when the age variable is left out. This implies that age is not a necessary variable that helps in predicting the gender accurately when using Gaussian Naive Bayes."
      ]
    },
    {
      "cell_type": "markdown",
      "metadata": {
        "id": "JQhhOZNVuHKq"
      },
      "source": [
        "# Question 2-e\n",
        "\n",
        "Based on the leave one out error, Gaussian Naive Bayes gave better results than the best K Nearest Neighbor classifier even when considering height, weight, and age variables or just considering height, and weight variables."
      ]
    }
  ],
  "metadata": {
    "colab": {
      "collapsed_sections": [],
      "provenance": [],
      "toc_visible": true
    },
    "kernelspec": {
      "display_name": "Python 3.10.8 64-bit",
      "language": "python",
      "name": "python3"
    },
    "language_info": {
      "codemirror_mode": {
        "name": "ipython",
        "version": 3
      },
      "file_extension": ".py",
      "mimetype": "text/x-python",
      "name": "python",
      "nbconvert_exporter": "python",
      "pygments_lexer": "ipython3",
      "version": "3.10.8"
    },
    "vscode": {
      "interpreter": {
        "hash": "e34c90257c3c8cc05447f5c89e2f58c166239691fedec1e943d35f998fdcbbe0"
      }
    }
  },
  "nbformat": 4,
  "nbformat_minor": 0
}
